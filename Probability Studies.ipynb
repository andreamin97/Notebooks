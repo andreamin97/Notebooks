{
 "metadata": {
  "language_info": {
   "codemirror_mode": {
    "name": "ipython",
    "version": 3
   },
   "file_extension": ".py",
   "mimetype": "text/x-python",
   "name": "python",
   "nbconvert_exporter": "python",
   "pygments_lexer": "ipython3",
   "version": "3.9.2"
  },
  "orig_nbformat": 2,
  "kernelspec": {
   "name": "pythonjvsc74a57bd02717a0e2a229ad822a491f3334a378de63f19a97ce6e6f719359fc84f730185f",
   "display_name": "Python 3.9.2  ('env': venv)"
  },
  "metadata": {
   "interpreter": {
    "hash": "2717a0e2a229ad822a491f3334a378de63f19a97ce6e6f719359fc84f730185f"
   }
  }
 },
 "nbformat": 4,
 "nbformat_minor": 2,
 "cells": [
  {
   "source": [
    "## Sources\n",
    "- [ ] https://nbviewer.jupyter.org/github/practicallypredictable/posts/tree/master/probability/notebooks/\n",
    "- [ ] https://github.com/norvig/pytudes#pytudes-index-of-jupyter-ipython-notebooks\n",
    "- [ ] https://allendowney.blogspot.com/2014/05/implementing-pmfs-in-python.html"
   ],
   "cell_type": "markdown",
   "metadata": {}
  },
  {
   "source": [
    "# Probability Studies"
   ],
   "cell_type": "markdown",
   "metadata": {}
  },
  {
   "source": [
    ">> The probability of an event is the ratio of the number of cases favorable to it, to the number of all cases possible when nothing leads us to expect that any one of these cases should occur more than any other, which renders them, for us, equally possible.\n",
    "\n",
    "> _ Pierre-Simon, marquis de Laplace_\n",
    "\n",
    "If we assume that coins, dice and cards are fair, we can assume that all possible outcomes are equally likely.\n",
    "\n",
    "A fair coin has $\\frac{1}{2}$ probability of landing on any side, just like a fair d6 has $\\frac{1}{6}$ probability of landing on any side.\n",
    "Notice that from these probabilities we are ignoring \"impossible\" outcomes, such as the coin landing on its side.\n",
    "\n",
    "## Essentials of Classical probability\n",
    "- There are a _finite_ number of _discrete_ possible outcomes.\n",
    "- Because they are finite and discrete, outcomes can be written in a list called _sample space_ and counted. The sample space must have at least two possible outcomes for there to be any uncertainty.\n",
    "- We are going to conduct an experiment with an uncertain outcome that we are going to observe.\n",
    "- The outcomes are _mutually exclusive_ and _exhaustive_\n",
    "- The random process of the experiment is fair.\n",
    "- An event is a set of one or more outcomes that we want to study\n",
    "- The classical probability of an event is: \n",
    "$$\\frac{number\\ of\\ outcomes\\ from\\ the\\ sample\\ space\\ in\\ the\\ event}{number\\ of\\ outcomes\\ in\\ the\\ sample\\ space}$$\n",
    "\n",
    "The standard math symbol for the probability of some event $A$ is $P(A)$.\n",
    "\n",
    "## Vocabulary\n",
    "- Trial: A single occurrence with an outcome that is uncertain until we observe it.\n",
    "For example, rolling a single die.\n",
    "- Outcome: A possible result of a trial; one particular state of the world. What Laplace calls a case.\n",
    "For example: 4.\n",
    "- Sample Space: The set of all possible outcomes for the trial.\n",
    "For example, {1, 2, 3, 4, 5, 6}.\n",
    "- Event: A subset of outcomes that together have some property we are interested in.\n",
    "For example, the event \"even die roll\" is the set of outcomes {2, 4, 6}.\n",
    "- Probability: As Laplace said, the probability of an event with respect to a sample space is the \"number of favorable cases\" (outcomes from the sample space that are in the event) divided by the \"number of all the cases\" in the sample space (assuming \"nothing leads us to expect that any one of these cases should occur more than any other\"). Since this is a proper fraction, probability will always be a number between 0 (representing an impossible event) and 1 (representing a certain event).\n",
    "For example, the probability of an even die roll is $3/6 = 1/2$.\n",
    "- Frequency: a non-negative number describing how often an outcome occurs. Can be a count like 5, or a ratio like $1/6$.\n",
    "- Distribution: A mapping from outcome to frequency of that outcome. We will allow sample spaces to be distributions.\n",
    "- Probability Distribution: A probability distribution is a distribution whose frequencies sum to 1.\n",
    "\n",
    "## Representing Probabilities in Python\n",
    "In code we are going to represent probabilities like this"
   ],
   "cell_type": "markdown",
   "metadata": {}
  },
  {
   "cell_type": "code",
   "execution_count": 1,
   "metadata": {},
   "outputs": [],
   "source": [
    "from fractions import Fraction\n",
    "\n",
    "def P(event, space):\n",
    "    # the probability of an event, given the sample and the space\n",
    "    return Fraction(cases(favorable(event, space)), cases(space))\n",
    "\n",
    "favorable = set.intersection # The outcomes in the event and in the sample space\n",
    "cases = len #The number of cases "
   ]
  },
  {
   "source": [
    "## Problem: Die Roll\n",
    "What's the probability of rolling an even number with a single six-sided fair die?\n",
    "\n",
    ">Mathematicians traditionally use a single capital letter to denote a sample space."
   ],
   "cell_type": "markdown",
   "metadata": {}
  },
  {
   "cell_type": "code",
   "execution_count": 2,
   "metadata": {},
   "outputs": [
    {
     "output_type": "execute_result",
     "data": {
      "text/plain": [
       "Fraction(1, 2)"
      ]
     },
     "metadata": {},
     "execution_count": 2
    }
   ],
   "source": [
    "D = {1, 2, 3, 4, 5, 6}\n",
    "event = {2, 4, 6}\n",
    "\n",
    "P(event, D)"
   ]
  },
  {
   "source": [
    "## Card Problems"
   ],
   "cell_type": "markdown",
   "metadata": {}
  },
  {
   "cell_type": "code",
   "execution_count": 3,
   "metadata": {},
   "outputs": [
    {
     "output_type": "execute_result",
     "data": {
      "text/plain": [
       "52"
      ]
     },
     "metadata": {},
     "execution_count": 3
    }
   ],
   "source": [
    "# Constructing the deck of cards\n",
    "suits = u'♥♠♦♣'\n",
    "ranks = u'AKQJT98765432'\n",
    "deck  = [r + s for r in ranks for s in suits]\n",
    "len(deck)"
   ]
  },
  {
   "source": [
    "Now lets find all possible 5 card hands combinations. We can use itertools.combinations to do most of the work."
   ],
   "cell_type": "markdown",
   "metadata": {}
  },
  {
   "cell_type": "code",
   "execution_count": 4,
   "metadata": {},
   "outputs": [
    {
     "output_type": "execute_result",
     "data": {
      "text/plain": [
       "2598960"
      ]
     },
     "metadata": {},
     "execution_count": 4
    }
   ],
   "source": [
    "import itertools\n",
    "\n",
    "def combinations(items, n):\n",
    "    return list(map(' '.join, itertools.combinations(items, n)))\n",
    "\n",
    "hands = combinations(deck, 5)\n",
    "len(hands)"
   ]
  },
  {
   "source": [
    "Lets sample a few hands"
   ],
   "cell_type": "markdown",
   "metadata": {}
  },
  {
   "cell_type": "code",
   "execution_count": 5,
   "metadata": {},
   "outputs": [
    {
     "output_type": "execute_result",
     "data": {
      "text/plain": [
       "['Q♦ 9♦ 7♠ 6♦ 4♥',\n",
       " 'K♥ K♠ 6♦ 4♠ 3♥',\n",
       " 'A♦ 9♦ 8♦ 6♣ 2♦',\n",
       " 'A♣ Q♥ 4♦ 2♥ 2♦',\n",
       " 'Q♣ 6♥ 6♦ 4♥ 3♠',\n",
       " 'K♦ Q♦ J♠ 3♠ 2♦',\n",
       " 'J♥ J♣ T♣ 4♦ 2♣']"
      ]
     },
     "metadata": {},
     "execution_count": 5
    }
   ],
   "source": [
    "import random\n",
    "\n",
    "random.sample(hands, 7)"
   ]
  },
  {
   "cell_type": "code",
   "execution_count": 6,
   "metadata": {},
   "outputs": [
    {
     "output_type": "execute_result",
     "data": {
      "text/plain": [
       "['7♣', 'J♥', '6♣', '4♥', 'A♠', 'T♥', '7♠']"
      ]
     },
     "metadata": {},
     "execution_count": 6
    }
   ],
   "source": [
    "random.sample(deck, 7)"
   ]
  },
  {
   "source": [
    "Now we can answer the probability of a flush"
   ],
   "cell_type": "markdown",
   "metadata": {}
  },
  {
   "cell_type": "code",
   "execution_count": 7,
   "metadata": {},
   "outputs": [
    {
     "output_type": "execute_result",
     "data": {
      "text/plain": [
       "Fraction(33, 16660)"
      ]
     },
     "metadata": {},
     "execution_count": 7
    }
   ],
   "source": [
    "flush = {hand for hand in hands if any(hand.count(suit) == 5 for suit in suits)}\n",
    "P(flush, hands)"
   ]
  },
  {
   "source": [
    "or the probability of four of a kind"
   ],
   "cell_type": "markdown",
   "metadata": {}
  },
  {
   "cell_type": "code",
   "execution_count": 8,
   "metadata": {},
   "outputs": [
    {
     "output_type": "execute_result",
     "data": {
      "text/plain": [
       "Fraction(1, 4165)"
      ]
     },
     "metadata": {},
     "execution_count": 8
    }
   ],
   "source": [
    "four_kind = { hand for hand in hands if any(hand.count(rank) == 4 for rank in ranks) }\n",
    "P(four_kind, hands)"
   ]
  },
  {
   "cell_type": "code",
   "execution_count": null,
   "metadata": {},
   "outputs": [],
   "source": []
  }
 ]
}