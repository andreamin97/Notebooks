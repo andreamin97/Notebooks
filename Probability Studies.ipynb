{
 "metadata": {
  "language_info": {
   "codemirror_mode": {
    "name": "ipython",
    "version": 3
   },
   "file_extension": ".py",
   "mimetype": "text/x-python",
   "name": "python",
   "nbconvert_exporter": "python",
   "pygments_lexer": "ipython3",
   "version": "3.9.2"
  },
  "orig_nbformat": 2,
  "kernelspec": {
   "name": "python392jvsc74a57bd0875cf162ea5df90e75d8cdd6550372741fb3d4cbac8cd2ec561022aed1978f15",
   "display_name": "Python 3.9.2 64-bit ('env': venv)"
  }
 },
 "nbformat": 4,
 "nbformat_minor": 2,
 "cells": [
  {
   "source": [
    "## Sources\n",
    "- [ ] https://nbviewer.jupyter.org/github/practicallypredictable/posts/tree/master/probability/notebooks/\n",
    "- [ ] https://github.com/norvig/pytudes#pytudes-index-of-jupyter-ipython-notebooks\n",
    "- [ ] https://allendowney.blogspot.com/2014/05/implementing-pmfs-in-python.html"
   ],
   "cell_type": "markdown",
   "metadata": {}
  },
  {
   "source": [
    "# Probability Studies"
   ],
   "cell_type": "markdown",
   "metadata": {}
  },
  {
   "source": [
    ">> The probability of an event is the ratio of the number of cases favorable to it, to the number of all cases possible when nothing leads us to expect that any one of these cases should occur more than any other, which renders them, for us, equally possible.\n",
    "\n",
    "> _ Pierre-Simon, marquis de Laplace_\n",
    "\n",
    "If we assume that coins, dice and cards are fair, we can assume that all possible outcomes are equally likely.\n",
    "\n",
    "A fair coin has $\\frac{1}{2}$ probability of landing on any side, just like a fair d6 has $\\frac{1}{6}$ probability of landing on any side.\n",
    "Notice that from these probabilities we are ignoring \"impossible\" outcomes, such as the coin landing on its side.\n",
    "\n",
    "## Essentials of Classical probability\n",
    "- There are a _finite_ number of _discrete_ possible outcomes.\n",
    "- Because they are finite and discrete, outcomes can be written in a list called _sample space_ and counted. The sample space must have at least two possible outcomes for there to be any uncertainty.\n",
    "- We are going to conduct an experiment with an uncertain outcome that we are going to observe.\n",
    "- The outcomes are _mutually exclusive_ and _exhaustive_\n",
    "- The random process of the experiment is fair.\n",
    "- An event is a set of one or more outcomes that we want to study\n",
    "- The classical probability of an event is: \n",
    "$$\\frac{number\\ of\\ outcomes\\ from\\ the\\ sample\\ space\\ in\\ the\\ event}{number\\ of\\ outcomes\\ in\\ the\\ sample\\ space}$$\n",
    "\n",
    "The standard math symbol for the probability of some event $A$ is $P(A)$.\n",
    "\n",
    "## Representing Probabilities in Python\n",
    "Since classical probability is mostly about counting and since probabilities are fractions, we are going to use the standard library Counter and Fraction classes.\n"
   ],
   "cell_type": "markdown",
   "metadata": {}
  },
  {
   "cell_type": "code",
   "execution_count": 1,
   "metadata": {},
   "outputs": [],
   "source": [
    "from fractions import Fraction\n",
    "from collections import Counter\n",
    "from enum import Enum\n",
    "import itertools as it\n",
    "import random\n"
   ]
  }
 ]
}