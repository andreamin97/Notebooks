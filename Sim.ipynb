{
 "metadata": {
  "language_info": {
   "codemirror_mode": {
    "name": "ipython",
    "version": 3
   },
   "file_extension": ".py",
   "mimetype": "text/x-python",
   "name": "python",
   "nbconvert_exporter": "python",
   "pygments_lexer": "ipython3",
   "version": "3.9.2"
  },
  "orig_nbformat": 2,
  "kernelspec": {
   "name": "python392jvsc74a57bd02717a0e2a229ad822a491f3334a378de63f19a97ce6e6f719359fc84f730185f",
   "display_name": "Python 3.9.2  ('env': venv)"
  }
 },
 "nbformat": 4,
 "nbformat_minor": 2,
 "cells": [
  {
   "cell_type": "code",
   "execution_count": 16,
   "metadata": {},
   "outputs": [],
   "source": [
    "from enum import Enum\n",
    "\n",
    "class Jobs(Enum):\n",
    "    FIGHTER = 1\n",
    "    WIZARD = 2\n",
    "    CLERIC = 3\n",
    "\n",
    "class Races(Enum):\n",
    "    HUMAN = 1\n",
    "    ELF = 2\n",
    "    DWARF = 3"
   ]
  },
  {
   "cell_type": "code",
   "execution_count": 5,
   "metadata": {},
   "outputs": [],
   "source": [
    "class unit:\n",
    "    def __init__(self, id, race, job, level=1, hp=10, mana=0):\n",
    "        self.id = id\n",
    "        self.race = race\n",
    "        self.job = job\n",
    "        self.level = level\n",
    "        self.hp = hp\n",
    "        self.mana = mana"
   ]
  }
 ]
}